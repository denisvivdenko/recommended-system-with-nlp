{
 "cells": [
  {
   "cell_type": "code",
   "execution_count": 31,
   "id": "6bb9a29a",
   "metadata": {},
   "outputs": [],
   "source": [
    "import pandas as pd\n",
    "import numpy as np\n",
    "import matplotlib.pyplot as plt\n",
    "import seaborn as sns\n",
    "import nltk\n",
    "from nltk.corpus import stopwords\n",
    "from nltk.tokenize import word_tokenize\n",
    "from uk_stemmer import UkStemmer"
   ]
  },
  {
   "cell_type": "code",
   "execution_count": 32,
   "id": "07eee62a",
   "metadata": {},
   "outputs": [],
   "source": [
    "from sparknlp.base import *\n",
    "from sparknlp.annotator import *\n",
    "from sparknlp.pretrained import PretrainedPipeline\n",
    "import sparknlp"
   ]
  },
  {
   "cell_type": "code",
   "execution_count": 33,
   "id": "b1aa9e59",
   "metadata": {},
   "outputs": [],
   "source": [
    "import nlu"
   ]
  },
  {
   "cell_type": "code",
   "execution_count": 34,
   "id": "7492253c",
   "metadata": {},
   "outputs": [],
   "source": [
    "import warnings\n",
    "warnings.filterwarnings('ignore')"
   ]
  },
  {
   "cell_type": "code",
   "execution_count": 35,
   "id": "4417a007",
   "metadata": {},
   "outputs": [
    {
     "name": "stderr",
     "output_type": "stream",
     "text": [
      "[nltk_data] Downloading package stopwords to\n",
      "[nltk_data]     /home/denisvivdenko/nltk_data...\n",
      "[nltk_data]   Unzipping corpora/stopwords.zip.\n"
     ]
    }
   ],
   "source": [
    "pd.options.display.float_format = \"{:,.2f}\".format\n",
    "np.set_printoptions(suppress=True)\n",
    "nltk.download('stopwords')\n",
    "random_state = 8080"
   ]
  },
  {
   "cell_type": "code",
   "execution_count": 36,
   "id": "95327928",
   "metadata": {},
   "outputs": [],
   "source": [
    "df = pd.read_csv(\"full_data.csv\")"
   ]
  },
  {
   "cell_type": "code",
   "execution_count": 37,
   "id": "7137790c",
   "metadata": {},
   "outputs": [
    {
     "data": {
      "text/html": [
       "<div>\n",
       "<style scoped>\n",
       "    .dataframe tbody tr th:only-of-type {\n",
       "        vertical-align: middle;\n",
       "    }\n",
       "\n",
       "    .dataframe tbody tr th {\n",
       "        vertical-align: top;\n",
       "    }\n",
       "\n",
       "    .dataframe thead th {\n",
       "        text-align: right;\n",
       "    }\n",
       "</style>\n",
       "<table border=\"1\" class=\"dataframe\">\n",
       "  <thead>\n",
       "    <tr style=\"text-align: right;\">\n",
       "      <th></th>\n",
       "      <th>crm_customer_id</th>\n",
       "      <th>created</th>\n",
       "      <th>NAME_LOWEST</th>\n",
       "    </tr>\n",
       "  </thead>\n",
       "  <tbody>\n",
       "    <tr>\n",
       "      <th>0</th>\n",
       "      <td>50081964</td>\n",
       "      <td>2021-01-25 14:21:07.610</td>\n",
       "      <td>Петлі меблеві</td>\n",
       "    </tr>\n",
       "    <tr>\n",
       "      <th>1</th>\n",
       "      <td>50081964</td>\n",
       "      <td>2021-01-25 14:21:07.610</td>\n",
       "      <td>Петлі меблеві</td>\n",
       "    </tr>\n",
       "    <tr>\n",
       "      <th>2</th>\n",
       "      <td>50081964</td>\n",
       "      <td>2021-01-29 13:53:52.920</td>\n",
       "      <td>Лотки для столових приборів</td>\n",
       "    </tr>\n",
       "    <tr>\n",
       "      <th>3</th>\n",
       "      <td>50081964</td>\n",
       "      <td>2021-05-31 12:21:22.080</td>\n",
       "      <td>Інсектициди</td>\n",
       "    </tr>\n",
       "    <tr>\n",
       "      <th>4</th>\n",
       "      <td>50081964</td>\n",
       "      <td>2021-02-20 15:02:06.730</td>\n",
       "      <td>Рейлінги для кухні</td>\n",
       "    </tr>\n",
       "  </tbody>\n",
       "</table>\n",
       "</div>"
      ],
      "text/plain": [
       "   crm_customer_id                  created                  NAME_LOWEST\n",
       "0         50081964  2021-01-25 14:21:07.610                Петлі меблеві\n",
       "1         50081964  2021-01-25 14:21:07.610                Петлі меблеві\n",
       "2         50081964  2021-01-29 13:53:52.920  Лотки для столових приборів\n",
       "3         50081964  2021-05-31 12:21:22.080                  Інсектициди\n",
       "4         50081964  2021-02-20 15:02:06.730           Рейлінги для кухні"
      ]
     },
     "execution_count": 37,
     "metadata": {},
     "output_type": "execute_result"
    }
   ],
   "source": [
    "df.head()"
   ]
  },
  {
   "cell_type": "code",
   "execution_count": 38,
   "id": "0eb2b470",
   "metadata": {},
   "outputs": [],
   "source": [
    "df.columns = [\"customer_id\", \"date\", \"category\"]"
   ]
  },
  {
   "cell_type": "code",
   "execution_count": 39,
   "id": "0d4582db",
   "metadata": {},
   "outputs": [
    {
     "data": {
      "text/html": [
       "<div>\n",
       "<style scoped>\n",
       "    .dataframe tbody tr th:only-of-type {\n",
       "        vertical-align: middle;\n",
       "    }\n",
       "\n",
       "    .dataframe tbody tr th {\n",
       "        vertical-align: top;\n",
       "    }\n",
       "\n",
       "    .dataframe thead th {\n",
       "        text-align: right;\n",
       "    }\n",
       "</style>\n",
       "<table border=\"1\" class=\"dataframe\">\n",
       "  <thead>\n",
       "    <tr style=\"text-align: right;\">\n",
       "      <th></th>\n",
       "      <th>customer_id</th>\n",
       "      <th>date</th>\n",
       "      <th>category</th>\n",
       "    </tr>\n",
       "  </thead>\n",
       "  <tbody>\n",
       "    <tr>\n",
       "      <th>0</th>\n",
       "      <td>50081964</td>\n",
       "      <td>2021-01-25 14:21:07.610</td>\n",
       "      <td>Петлі меблеві</td>\n",
       "    </tr>\n",
       "    <tr>\n",
       "      <th>1</th>\n",
       "      <td>50081964</td>\n",
       "      <td>2021-01-25 14:21:07.610</td>\n",
       "      <td>Петлі меблеві</td>\n",
       "    </tr>\n",
       "  </tbody>\n",
       "</table>\n",
       "</div>"
      ],
      "text/plain": [
       "   customer_id                     date       category\n",
       "0     50081964  2021-01-25 14:21:07.610  Петлі меблеві\n",
       "1     50081964  2021-01-25 14:21:07.610  Петлі меблеві"
      ]
     },
     "execution_count": 39,
     "metadata": {},
     "output_type": "execute_result"
    }
   ],
   "source": [
    "df.head(2)"
   ]
  },
  {
   "cell_type": "code",
   "execution_count": 40,
   "id": "79c789f5",
   "metadata": {},
   "outputs": [
    {
     "data": {
      "text/plain": [
       "(1412105, 3)"
      ]
     },
     "execution_count": 40,
     "metadata": {},
     "output_type": "execute_result"
    }
   ],
   "source": [
    "df.shape"
   ]
  },
  {
   "cell_type": "code",
   "execution_count": 41,
   "id": "a101cb57",
   "metadata": {},
   "outputs": [
    {
     "name": "stdout",
     "output_type": "stream",
     "text": [
      "<class 'pandas.core.frame.DataFrame'>\n",
      "RangeIndex: 1412105 entries, 0 to 1412104\n",
      "Data columns (total 3 columns):\n",
      " #   Column       Non-Null Count    Dtype \n",
      "---  ------       --------------    ----- \n",
      " 0   customer_id  1412105 non-null  int64 \n",
      " 1   date         1412105 non-null  object\n",
      " 2   category     1412105 non-null  object\n",
      "dtypes: int64(1), object(2)\n",
      "memory usage: 32.3+ MB\n"
     ]
    }
   ],
   "source": [
    "df.info()"
   ]
  },
  {
   "cell_type": "code",
   "execution_count": 42,
   "id": "4277cea4",
   "metadata": {},
   "outputs": [
    {
     "name": "stdout",
     "output_type": "stream",
     "text": [
      "number of categories: 2129\n"
     ]
    }
   ],
   "source": [
    "print(f\"number of categories: {df.category.nunique()}\")"
   ]
  },
  {
   "cell_type": "code",
   "execution_count": 43,
   "id": "f61a6ba1",
   "metadata": {},
   "outputs": [
    {
     "name": "stdout",
     "output_type": "stream",
     "text": [
      "number of customers: 20114\n"
     ]
    }
   ],
   "source": [
    "print(f\"number of customers: {df.customer_id.nunique()}\")"
   ]
  },
  {
   "cell_type": "markdown",
   "id": "0d7e8be1",
   "metadata": {},
   "source": [
    "# NLP feature engineering"
   ]
  },
  {
   "cell_type": "markdown",
   "id": "1c5849c2",
   "metadata": {},
   "source": [
    "1. make all words lowercase\n",
    "2. remove stopwords\n",
    "3. preform stemming"
   ]
  },
  {
   "cell_type": "code",
   "execution_count": 44,
   "id": "3bfbc664",
   "metadata": {},
   "outputs": [
    {
     "data": {
      "text/html": [
       "<div>\n",
       "<style scoped>\n",
       "    .dataframe tbody tr th:only-of-type {\n",
       "        vertical-align: middle;\n",
       "    }\n",
       "\n",
       "    .dataframe tbody tr th {\n",
       "        vertical-align: top;\n",
       "    }\n",
       "\n",
       "    .dataframe thead th {\n",
       "        text-align: right;\n",
       "    }\n",
       "</style>\n",
       "<table border=\"1\" class=\"dataframe\">\n",
       "  <thead>\n",
       "    <tr style=\"text-align: right;\">\n",
       "      <th></th>\n",
       "      <th>customer_id</th>\n",
       "      <th>date</th>\n",
       "      <th>category</th>\n",
       "    </tr>\n",
       "  </thead>\n",
       "  <tbody>\n",
       "    <tr>\n",
       "      <th>0</th>\n",
       "      <td>50081964</td>\n",
       "      <td>2021-01-25 14:21:07.610</td>\n",
       "      <td>Петлі меблеві</td>\n",
       "    </tr>\n",
       "    <tr>\n",
       "      <th>1</th>\n",
       "      <td>50081964</td>\n",
       "      <td>2021-01-25 14:21:07.610</td>\n",
       "      <td>Петлі меблеві</td>\n",
       "    </tr>\n",
       "    <tr>\n",
       "      <th>2</th>\n",
       "      <td>50081964</td>\n",
       "      <td>2021-01-29 13:53:52.920</td>\n",
       "      <td>Лотки для столових приборів</td>\n",
       "    </tr>\n",
       "    <tr>\n",
       "      <th>3</th>\n",
       "      <td>50081964</td>\n",
       "      <td>2021-05-31 12:21:22.080</td>\n",
       "      <td>Інсектициди</td>\n",
       "    </tr>\n",
       "    <tr>\n",
       "      <th>4</th>\n",
       "      <td>50081964</td>\n",
       "      <td>2021-02-20 15:02:06.730</td>\n",
       "      <td>Рейлінги для кухні</td>\n",
       "    </tr>\n",
       "  </tbody>\n",
       "</table>\n",
       "</div>"
      ],
      "text/plain": [
       "   customer_id                     date                     category\n",
       "0     50081964  2021-01-25 14:21:07.610                Петлі меблеві\n",
       "1     50081964  2021-01-25 14:21:07.610                Петлі меблеві\n",
       "2     50081964  2021-01-29 13:53:52.920  Лотки для столових приборів\n",
       "3     50081964  2021-05-31 12:21:22.080                  Інсектициди\n",
       "4     50081964  2021-02-20 15:02:06.730           Рейлінги для кухні"
      ]
     },
     "execution_count": 44,
     "metadata": {},
     "output_type": "execute_result"
    }
   ],
   "source": [
    "df.head()"
   ]
  },
  {
   "cell_type": "code",
   "execution_count": 45,
   "id": "ecffdd8b",
   "metadata": {},
   "outputs": [
    {
     "data": {
      "text/plain": [
       "array(['Петлі меблеві', 'Лотки для столових приборів', 'Інсектициди',\n",
       "       'Рейлінги для кухні', 'Алюмінієвий профіль', 'Стопори дверні',\n",
       "       'Зубна паста', 'Куточок алюмінієвий', 'Мішки для сміття',\n",
       "       'Господарчі рукавички', 'Серветки для прибирання',\n",
       "       'Аератори для крана', 'Засоби для ванних кімнат', 'Швабри',\n",
       "       'Засоби для кухні', 'Засоби для догляду за унітазом',\n",
       "       'Клей побутовий', 'Губки господарчі', 'Пральний порошок',\n",
       "       'Клей для шпалер'], dtype=object)"
      ]
     },
     "execution_count": 45,
     "metadata": {},
     "output_type": "execute_result"
    }
   ],
   "source": [
    "df.category.unique()[:20]"
   ]
  },
  {
   "cell_type": "code",
   "execution_count": 46,
   "id": "4f188ab0",
   "metadata": {},
   "outputs": [
    {
     "data": {
      "text/plain": [
       "True"
      ]
     },
     "execution_count": 46,
     "metadata": {},
     "output_type": "execute_result"
    }
   ],
   "source": [
    "\"для\" in stopwords.words(\"ukrainian\")"
   ]
  },
  {
   "cell_type": "code",
   "execution_count": 57,
   "id": "95e9f48f",
   "metadata": {},
   "outputs": [],
   "source": [
    "ndf = df.drop_duplicates(subset=[\"customer_id\", \"category\"])"
   ]
  },
  {
   "cell_type": "code",
   "execution_count": 58,
   "id": "6b7616f2",
   "metadata": {},
   "outputs": [
    {
     "name": "stdout",
     "output_type": "stream",
     "text": [
      "distinct records: 38%\n"
     ]
    }
   ],
   "source": [
    "print(f\"distinct records: {round((ndf.shape[0] * 100) / df.shape[0])}%\")"
   ]
  },
  {
   "cell_type": "code",
   "execution_count": 59,
   "id": "f0511943",
   "metadata": {},
   "outputs": [
    {
     "data": {
      "text/html": [
       "<div>\n",
       "<style scoped>\n",
       "    .dataframe tbody tr th:only-of-type {\n",
       "        vertical-align: middle;\n",
       "    }\n",
       "\n",
       "    .dataframe tbody tr th {\n",
       "        vertical-align: top;\n",
       "    }\n",
       "\n",
       "    .dataframe thead th {\n",
       "        text-align: right;\n",
       "    }\n",
       "</style>\n",
       "<table border=\"1\" class=\"dataframe\">\n",
       "  <thead>\n",
       "    <tr style=\"text-align: right;\">\n",
       "      <th></th>\n",
       "      <th>customer_id</th>\n",
       "      <th>date</th>\n",
       "      <th>category</th>\n",
       "    </tr>\n",
       "  </thead>\n",
       "  <tbody>\n",
       "    <tr>\n",
       "      <th>0</th>\n",
       "      <td>50081964</td>\n",
       "      <td>2021-01-25 14:21:07.610</td>\n",
       "      <td>Петлі меблеві</td>\n",
       "    </tr>\n",
       "    <tr>\n",
       "      <th>2</th>\n",
       "      <td>50081964</td>\n",
       "      <td>2021-01-29 13:53:52.920</td>\n",
       "      <td>Лотки для столових приборів</td>\n",
       "    </tr>\n",
       "    <tr>\n",
       "      <th>3</th>\n",
       "      <td>50081964</td>\n",
       "      <td>2021-05-31 12:21:22.080</td>\n",
       "      <td>Інсектициди</td>\n",
       "    </tr>\n",
       "    <tr>\n",
       "      <th>4</th>\n",
       "      <td>50081964</td>\n",
       "      <td>2021-02-20 15:02:06.730</td>\n",
       "      <td>Рейлінги для кухні</td>\n",
       "    </tr>\n",
       "    <tr>\n",
       "      <th>6</th>\n",
       "      <td>50081964</td>\n",
       "      <td>2021-02-20 15:02:06.730</td>\n",
       "      <td>Алюмінієвий профіль</td>\n",
       "    </tr>\n",
       "  </tbody>\n",
       "</table>\n",
       "</div>"
      ],
      "text/plain": [
       "   customer_id                     date                     category\n",
       "0     50081964  2021-01-25 14:21:07.610                Петлі меблеві\n",
       "2     50081964  2021-01-29 13:53:52.920  Лотки для столових приборів\n",
       "3     50081964  2021-05-31 12:21:22.080                  Інсектициди\n",
       "4     50081964  2021-02-20 15:02:06.730           Рейлінги для кухні\n",
       "6     50081964  2021-02-20 15:02:06.730          Алюмінієвий профіль"
      ]
     },
     "execution_count": 59,
     "metadata": {},
     "output_type": "execute_result"
    }
   ],
   "source": [
    "ndf.head()"
   ]
  },
  {
   "cell_type": "code",
   "execution_count": 60,
   "id": "5ac05d23",
   "metadata": {},
   "outputs": [],
   "source": [
    "ndf[\"category\"] = ndf[\"category\"].str.lower()"
   ]
  },
  {
   "cell_type": "code",
   "execution_count": 61,
   "id": "7433fdf4",
   "metadata": {},
   "outputs": [
    {
     "data": {
      "text/html": [
       "<div>\n",
       "<style scoped>\n",
       "    .dataframe tbody tr th:only-of-type {\n",
       "        vertical-align: middle;\n",
       "    }\n",
       "\n",
       "    .dataframe tbody tr th {\n",
       "        vertical-align: top;\n",
       "    }\n",
       "\n",
       "    .dataframe thead th {\n",
       "        text-align: right;\n",
       "    }\n",
       "</style>\n",
       "<table border=\"1\" class=\"dataframe\">\n",
       "  <thead>\n",
       "    <tr style=\"text-align: right;\">\n",
       "      <th></th>\n",
       "      <th>customer_id</th>\n",
       "      <th>date</th>\n",
       "      <th>category</th>\n",
       "    </tr>\n",
       "  </thead>\n",
       "  <tbody>\n",
       "    <tr>\n",
       "      <th>0</th>\n",
       "      <td>50081964</td>\n",
       "      <td>2021-01-25 14:21:07.610</td>\n",
       "      <td>петлі меблеві</td>\n",
       "    </tr>\n",
       "    <tr>\n",
       "      <th>2</th>\n",
       "      <td>50081964</td>\n",
       "      <td>2021-01-29 13:53:52.920</td>\n",
       "      <td>лотки для столових приборів</td>\n",
       "    </tr>\n",
       "    <tr>\n",
       "      <th>3</th>\n",
       "      <td>50081964</td>\n",
       "      <td>2021-05-31 12:21:22.080</td>\n",
       "      <td>інсектициди</td>\n",
       "    </tr>\n",
       "    <tr>\n",
       "      <th>4</th>\n",
       "      <td>50081964</td>\n",
       "      <td>2021-02-20 15:02:06.730</td>\n",
       "      <td>рейлінги для кухні</td>\n",
       "    </tr>\n",
       "    <tr>\n",
       "      <th>6</th>\n",
       "      <td>50081964</td>\n",
       "      <td>2021-02-20 15:02:06.730</td>\n",
       "      <td>алюмінієвий профіль</td>\n",
       "    </tr>\n",
       "  </tbody>\n",
       "</table>\n",
       "</div>"
      ],
      "text/plain": [
       "   customer_id                     date                     category\n",
       "0     50081964  2021-01-25 14:21:07.610                петлі меблеві\n",
       "2     50081964  2021-01-29 13:53:52.920  лотки для столових приборів\n",
       "3     50081964  2021-05-31 12:21:22.080                  інсектициди\n",
       "4     50081964  2021-02-20 15:02:06.730           рейлінги для кухні\n",
       "6     50081964  2021-02-20 15:02:06.730          алюмінієвий профіль"
      ]
     },
     "execution_count": 61,
     "metadata": {},
     "output_type": "execute_result"
    }
   ],
   "source": [
    "ndf.head()"
   ]
  },
  {
   "cell_type": "code",
   "execution_count": 62,
   "id": "291caf95",
   "metadata": {},
   "outputs": [
    {
     "data": {
      "text/plain": [
       "0"
      ]
     },
     "execution_count": 62,
     "metadata": {},
     "output_type": "execute_result"
    }
   ],
   "source": [
    "sum(ndf.category.str.isnumeric())"
   ]
  },
  {
   "cell_type": "code",
   "execution_count": 63,
   "id": "aefd14b3",
   "metadata": {},
   "outputs": [],
   "source": [
    "categories = ndf.category.unique()"
   ]
  },
  {
   "cell_type": "code",
   "execution_count": 68,
   "id": "199e982d",
   "metadata": {},
   "outputs": [
    {
     "data": {
      "text/html": [
       "<div>\n",
       "<style scoped>\n",
       "    .dataframe tbody tr th:only-of-type {\n",
       "        vertical-align: middle;\n",
       "    }\n",
       "\n",
       "    .dataframe tbody tr th {\n",
       "        vertical-align: top;\n",
       "    }\n",
       "\n",
       "    .dataframe thead th {\n",
       "        text-align: right;\n",
       "    }\n",
       "</style>\n",
       "<table border=\"1\" class=\"dataframe\">\n",
       "  <thead>\n",
       "    <tr style=\"text-align: right;\">\n",
       "      <th></th>\n",
       "      <th>customer_id</th>\n",
       "      <th>date</th>\n",
       "      <th>category</th>\n",
       "    </tr>\n",
       "  </thead>\n",
       "  <tbody>\n",
       "    <tr>\n",
       "      <th>0</th>\n",
       "      <td>50081964</td>\n",
       "      <td>2021-01-25 14:21:07.610</td>\n",
       "      <td>петлі меблеві</td>\n",
       "    </tr>\n",
       "    <tr>\n",
       "      <th>2</th>\n",
       "      <td>50081964</td>\n",
       "      <td>2021-01-29 13:53:52.920</td>\n",
       "      <td>лотки для столових приборів</td>\n",
       "    </tr>\n",
       "    <tr>\n",
       "      <th>3</th>\n",
       "      <td>50081964</td>\n",
       "      <td>2021-05-31 12:21:22.080</td>\n",
       "      <td>інсектициди</td>\n",
       "    </tr>\n",
       "    <tr>\n",
       "      <th>4</th>\n",
       "      <td>50081964</td>\n",
       "      <td>2021-02-20 15:02:06.730</td>\n",
       "      <td>рейлінги для кухні</td>\n",
       "    </tr>\n",
       "    <tr>\n",
       "      <th>6</th>\n",
       "      <td>50081964</td>\n",
       "      <td>2021-02-20 15:02:06.730</td>\n",
       "      <td>алюмінієвий профіль</td>\n",
       "    </tr>\n",
       "  </tbody>\n",
       "</table>\n",
       "</div>"
      ],
      "text/plain": [
       "   customer_id                     date                     category\n",
       "0     50081964  2021-01-25 14:21:07.610                петлі меблеві\n",
       "2     50081964  2021-01-29 13:53:52.920  лотки для столових приборів\n",
       "3     50081964  2021-05-31 12:21:22.080                  інсектициди\n",
       "4     50081964  2021-02-20 15:02:06.730           рейлінги для кухні\n",
       "6     50081964  2021-02-20 15:02:06.730          алюмінієвий профіль"
      ]
     },
     "execution_count": 68,
     "metadata": {},
     "output_type": "execute_result"
    }
   ],
   "source": [
    "ndf.head()"
   ]
  },
  {
   "cell_type": "code",
   "execution_count": 69,
   "id": "275c6a1b",
   "metadata": {},
   "outputs": [
    {
     "name": "stdout",
     "output_type": "stream",
     "text": [
      "lemma download started this may take some time.\n",
      "Approximate size to download 2.3 MB\n",
      "[OK!]\n",
      "sentence_detector_dl download started this may take some time.\n",
      "Approximate size to download 354.6 KB\n",
      "[OK!]\n"
     ]
    },
    {
     "data": {
      "text/plain": [
       "0                    [петля, меблеві]\n",
       "1    [лотки, для, столовий, приборів]\n",
       "2                       [інсектициди]\n",
       "3              [рейлінги, для, кухня]\n",
       "4              [алюмінієвий, профіль]\n",
       "Name: lem, dtype: object"
      ]
     },
     "execution_count": 69,
     "metadata": {},
     "output_type": "execute_result"
    }
   ],
   "source": [
    "without_stopwords_lemma_df = nlu.load('uk.lemma').predict(ndf.head().category, output_level='document')\n",
    "without_stopwords_lemma_df.lem"
   ]
  },
  {
   "cell_type": "code",
   "execution_count": 67,
   "id": "64939353",
   "metadata": {},
   "outputs": [
    {
     "name": "stdout",
     "output_type": "stream",
     "text": [
      "sentence_detector_dl download started this may take some time.\n",
      "Approximate size to download 354.6 KB\n",
      "[OK!]\n"
     ]
    },
    {
     "data": {
      "text/plain": [
       "0                    [петлі, меблеві]\n",
       "1    [лотки, для, столових, приборів]\n",
       "2                       [інсектициди]\n",
       "3              [рейлінги, для, кухні]\n",
       "4              [алюмінієвий, профіль]\n",
       "Name: stem, dtype: object"
      ]
     },
     "execution_count": 67,
     "metadata": {},
     "output_type": "execute_result"
    }
   ],
   "source": [
    "stem_df = nlu.load('uk.stem').predict(ndf.head().category, output_level='document')\n",
    "stem_df.stem"
   ]
  },
  {
   "cell_type": "code",
   "execution_count": 70,
   "id": "5951b052",
   "metadata": {},
   "outputs": [],
   "source": [
    "for category in categories:\n",
    "    processed_category = [word for word in word_tokenize(category)\n",
    "                              if word not in stopwords.words(\"ukrainian\")]\n",
    "    ndf.loc[ndf[\"category\"] == category, \"category\"] = ' '.join(processed_category)"
   ]
  },
  {
   "cell_type": "code",
   "execution_count": 71,
   "id": "6ff5de40",
   "metadata": {},
   "outputs": [
    {
     "name": "stdout",
     "output_type": "stream",
     "text": [
      "lemma download started this may take some time.\n",
      "Approximate size to download 2.3 MB\n",
      "[OK!]\n",
      "sentence_detector_dl download started this may take some time.\n",
      "Approximate size to download 354.6 KB\n",
      "[OK!]\n"
     ]
    },
    {
     "data": {
      "text/plain": [
       "0               [петля, меблеві]\n",
       "1    [лотки, столовий, приборів]\n",
       "2                  [інсектициди]\n",
       "3              [рейлінги, кухня]\n",
       "4         [алюмінієвий, профіль]\n",
       "Name: lem, dtype: object"
      ]
     },
     "execution_count": 71,
     "metadata": {},
     "output_type": "execute_result"
    }
   ],
   "source": [
    "lemma_df = nlu.load('uk.lemma').predict(ndf.head().category, output_level='document')\n",
    "lemma_df.lem"
   ]
  },
  {
   "cell_type": "code",
   "execution_count": null,
   "id": "460aac54",
   "metadata": {},
   "outputs": [],
   "source": []
  },
  {
   "cell_type": "code",
   "execution_count": null,
   "id": "bbd918fa",
   "metadata": {},
   "outputs": [],
   "source": []
  },
  {
   "cell_type": "code",
   "execution_count": null,
   "id": "e70e1fba",
   "metadata": {},
   "outputs": [],
   "source": []
  },
  {
   "cell_type": "code",
   "execution_count": null,
   "id": "4be0551b",
   "metadata": {},
   "outputs": [],
   "source": []
  },
  {
   "cell_type": "code",
   "execution_count": null,
   "id": "6f5a885d",
   "metadata": {},
   "outputs": [],
   "source": []
  },
  {
   "cell_type": "code",
   "execution_count": null,
   "id": "77b53d65",
   "metadata": {},
   "outputs": [],
   "source": []
  },
  {
   "cell_type": "code",
   "execution_count": null,
   "id": "0536742c",
   "metadata": {},
   "outputs": [],
   "source": []
  },
  {
   "cell_type": "code",
   "execution_count": null,
   "id": "ae189120",
   "metadata": {},
   "outputs": [],
   "source": []
  }
 ],
 "metadata": {
  "kernelspec": {
   "display_name": "Python 3.9.5 64-bit ('base': conda)",
   "language": "python",
   "name": "python395jvsc74a57bd0fb8ca6cce2893fe67c294ed3733fee303402dead6d4c4247de38e1ddf5262cca"
  },
  "language_info": {
   "codemirror_mode": {
    "name": "ipython",
    "version": 3
   },
   "file_extension": ".py",
   "mimetype": "text/x-python",
   "name": "python",
   "nbconvert_exporter": "python",
   "pygments_lexer": "ipython3",
   "version": "3.8.2"
  }
 },
 "nbformat": 4,
 "nbformat_minor": 5
}
